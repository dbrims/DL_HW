{
 "cells": [
  {
   "cell_type": "markdown",
   "metadata": {},
   "source": [
    "# LSTM Stock Predictor Using Closing Prices\n",
    "\n",
    "In this notebook, you will build and train a custom LSTM RNN that uses a 10 day window of Bitcoin closing prices to predict the 11th day closing price. \n",
    "\n",
    "You will need to:\n",
    "\n",
    "1. Prepare the data for training and testing\n",
    "2. Build and train a custom LSTM RNN\n",
    "3. Evaluate the performance of the model"
   ]
  },
  {
   "cell_type": "markdown",
   "metadata": {},
   "source": [
    "## Data Preparation\n",
    "\n",
    "In this section, you will need to prepare the training and testing data for the model. The model will use a rolling 10 day window to predict the 11th day closing price.\n",
    "\n",
    "You will need to:\n",
    "1. Use the `window_data` function to generate the X and y values for the model.\n",
    "2. Split the data into 70% training and 30% testing\n",
    "3. Apply the MinMaxScaler to the X and y values\n",
    "4. Reshape the X_train and X_test data for the model. Note: The required input format for the LSTM is:\n",
    "\n",
    "```python\n",
    "reshape((X_train.shape[0], X_train.shape[1], 1))\n",
    "```"
   ]
  },
  {
   "cell_type": "code",
   "execution_count": 49,
   "metadata": {},
   "outputs": [],
   "source": [
    "import numpy as np\n",
    "import pandas as pd\n",
    "import hvplot.pandas\n",
    "from sklearn.preprocessing import MinMaxScaler\n",
    "from tensorflow.keras.models import Sequential\n",
    "from tensorflow.keras.layers import LSTM, Dense, Dropout"
   ]
  },
  {
   "cell_type": "code",
   "execution_count": 50,
   "metadata": {},
   "outputs": [],
   "source": [
    "# Set the random seed for reproducibility\n",
    "# Note: This is for the homework solution, but it is good practice to comment this out and run multiple experiments to evaluate your model\n",
    "from numpy.random import seed\n",
    "seed(1)\n",
    "from tensorflow import random\n",
    "random.set_seed(2)"
   ]
  },
  {
   "cell_type": "code",
   "execution_count": 51,
   "metadata": {},
   "outputs": [
    {
     "data": {
      "text/html": [
       "<div>\n",
       "<style scoped>\n",
       "    .dataframe tbody tr th:only-of-type {\n",
       "        vertical-align: middle;\n",
       "    }\n",
       "\n",
       "    .dataframe tbody tr th {\n",
       "        vertical-align: top;\n",
       "    }\n",
       "\n",
       "    .dataframe thead th {\n",
       "        text-align: right;\n",
       "    }\n",
       "</style>\n",
       "<table border=\"1\" class=\"dataframe\">\n",
       "  <thead>\n",
       "    <tr style=\"text-align: right;\">\n",
       "      <th></th>\n",
       "      <th>fng_value</th>\n",
       "    </tr>\n",
       "    <tr>\n",
       "      <th>date</th>\n",
       "      <th></th>\n",
       "    </tr>\n",
       "  </thead>\n",
       "  <tbody>\n",
       "    <tr>\n",
       "      <th>2019-07-29</th>\n",
       "      <td>19</td>\n",
       "    </tr>\n",
       "    <tr>\n",
       "      <th>2019-07-28</th>\n",
       "      <td>16</td>\n",
       "    </tr>\n",
       "    <tr>\n",
       "      <th>2019-07-27</th>\n",
       "      <td>47</td>\n",
       "    </tr>\n",
       "    <tr>\n",
       "      <th>2019-07-26</th>\n",
       "      <td>24</td>\n",
       "    </tr>\n",
       "    <tr>\n",
       "      <th>2019-07-25</th>\n",
       "      <td>42</td>\n",
       "    </tr>\n",
       "  </tbody>\n",
       "</table>\n",
       "</div>"
      ],
      "text/plain": [
       "             fng_value\n",
       "date                  \n",
       "2019-07-29          19\n",
       "2019-07-28          16\n",
       "2019-07-27          47\n",
       "2019-07-26          24\n",
       "2019-07-25          42"
      ]
     },
     "execution_count": 51,
     "metadata": {},
     "output_type": "execute_result"
    }
   ],
   "source": [
    "# Load the fear and greed sentiment data for Bitcoin\n",
    "df = pd.read_csv('./data/btc_sentiment.csv', index_col=\"date\", infer_datetime_format=True, parse_dates=True)\n",
    "df = df.drop(columns=\"fng_classification\")\n",
    "df.head()"
   ]
  },
  {
   "cell_type": "code",
   "execution_count": 52,
   "metadata": {},
   "outputs": [
    {
     "data": {
      "text/plain": [
       "Date\n",
       "2019-07-25    9882.429688\n",
       "2019-07-26    9847.450195\n",
       "2019-07-27    9478.320313\n",
       "2019-07-28    9531.769531\n",
       "2019-07-29    9529.889648\n",
       "Name: Close, dtype: float64"
      ]
     },
     "execution_count": 52,
     "metadata": {},
     "output_type": "execute_result"
    }
   ],
   "source": [
    "# Load the historical closing prices for bitcoin\n",
    "df2 = pd.read_csv('./data/btc_historic.csv', index_col=\"Date\", infer_datetime_format=True, parse_dates=True)['Close']\n",
    "df2 = df2.sort_index()\n",
    "df2.tail()"
   ]
  },
  {
   "cell_type": "code",
   "execution_count": 53,
   "metadata": {},
   "outputs": [
    {
     "data": {
      "text/html": [
       "<div>\n",
       "<style scoped>\n",
       "    .dataframe tbody tr th:only-of-type {\n",
       "        vertical-align: middle;\n",
       "    }\n",
       "\n",
       "    .dataframe tbody tr th {\n",
       "        vertical-align: top;\n",
       "    }\n",
       "\n",
       "    .dataframe thead th {\n",
       "        text-align: right;\n",
       "    }\n",
       "</style>\n",
       "<table border=\"1\" class=\"dataframe\">\n",
       "  <thead>\n",
       "    <tr style=\"text-align: right;\">\n",
       "      <th></th>\n",
       "      <th>fng_value</th>\n",
       "      <th>Close</th>\n",
       "    </tr>\n",
       "  </thead>\n",
       "  <tbody>\n",
       "    <tr>\n",
       "      <th>2019-07-25</th>\n",
       "      <td>42</td>\n",
       "      <td>9882.429688</td>\n",
       "    </tr>\n",
       "    <tr>\n",
       "      <th>2019-07-26</th>\n",
       "      <td>24</td>\n",
       "      <td>9847.450195</td>\n",
       "    </tr>\n",
       "    <tr>\n",
       "      <th>2019-07-27</th>\n",
       "      <td>47</td>\n",
       "      <td>9478.320313</td>\n",
       "    </tr>\n",
       "    <tr>\n",
       "      <th>2019-07-28</th>\n",
       "      <td>16</td>\n",
       "      <td>9531.769531</td>\n",
       "    </tr>\n",
       "    <tr>\n",
       "      <th>2019-07-29</th>\n",
       "      <td>19</td>\n",
       "      <td>9529.889648</td>\n",
       "    </tr>\n",
       "  </tbody>\n",
       "</table>\n",
       "</div>"
      ],
      "text/plain": [
       "             fng_value        Close\n",
       "2019-07-25          42  9882.429688\n",
       "2019-07-26          24  9847.450195\n",
       "2019-07-27          47  9478.320313\n",
       "2019-07-28          16  9531.769531\n",
       "2019-07-29          19  9529.889648"
      ]
     },
     "execution_count": 53,
     "metadata": {},
     "output_type": "execute_result"
    }
   ],
   "source": [
    "# Join the data into a single DataFrame\n",
    "df = df.join(df2, how=\"inner\")\n",
    "df.tail()"
   ]
  },
  {
   "cell_type": "code",
   "execution_count": 54,
   "metadata": {},
   "outputs": [
    {
     "name": "stdout",
     "output_type": "stream",
     "text": [
      "Index([' fng_value', 'Close'], dtype='object')\n"
     ]
    }
   ],
   "source": [
    "print(df.columns)"
   ]
  },
  {
   "cell_type": "code",
   "execution_count": 55,
   "metadata": {},
   "outputs": [
    {
     "data": {
      "text/html": [
       "<div>\n",
       "<style scoped>\n",
       "    .dataframe tbody tr th:only-of-type {\n",
       "        vertical-align: middle;\n",
       "    }\n",
       "\n",
       "    .dataframe tbody tr th {\n",
       "        vertical-align: top;\n",
       "    }\n",
       "\n",
       "    .dataframe thead th {\n",
       "        text-align: right;\n",
       "    }\n",
       "</style>\n",
       "<table border=\"1\" class=\"dataframe\">\n",
       "  <thead>\n",
       "    <tr style=\"text-align: right;\">\n",
       "      <th></th>\n",
       "      <th>fng_value</th>\n",
       "      <th>Close</th>\n",
       "    </tr>\n",
       "  </thead>\n",
       "  <tbody>\n",
       "    <tr>\n",
       "      <th>2018-02-01</th>\n",
       "      <td>0.252874</td>\n",
       "      <td>0.940702</td>\n",
       "    </tr>\n",
       "    <tr>\n",
       "      <th>2018-02-02</th>\n",
       "      <td>0.080460</td>\n",
       "      <td>0.915508</td>\n",
       "    </tr>\n",
       "    <tr>\n",
       "      <th>2018-02-03</th>\n",
       "      <td>0.367816</td>\n",
       "      <td>0.954807</td>\n",
       "    </tr>\n",
       "    <tr>\n",
       "      <th>2018-02-04</th>\n",
       "      <td>0.183908</td>\n",
       "      <td>0.848078</td>\n",
       "    </tr>\n",
       "    <tr>\n",
       "      <th>2018-02-05</th>\n",
       "      <td>0.034483</td>\n",
       "      <td>0.715757</td>\n",
       "    </tr>\n",
       "  </tbody>\n",
       "</table>\n",
       "</div>"
      ],
      "text/plain": [
       "             fng_value     Close\n",
       "2018-02-01    0.252874  0.940702\n",
       "2018-02-02    0.080460  0.915508\n",
       "2018-02-03    0.367816  0.954807\n",
       "2018-02-04    0.183908  0.848078\n",
       "2018-02-05    0.034483  0.715757"
      ]
     },
     "execution_count": 55,
     "metadata": {},
     "output_type": "execute_result"
    }
   ],
   "source": [
    "df_s=df.copy()\n",
    "fmin=df[' fng_value'].min()\n",
    "fmax=df[' fng_value'].max()\n",
    "cmin=df['Close'].min()\n",
    "cmax=df['Close'].max()\n",
    "df_s[' fng_value']=(df_s[' fng_value']-fmin)/(fmax-fmin)\n",
    "df_s['Close']=(df_s['Close']-fmin)/(cmax-cmin)\n",
    "df_s.head()"
   ]
  },
  {
   "cell_type": "code",
   "execution_count": 85,
   "metadata": {},
   "outputs": [],
   "source": [
    "# This function accepts the column number for the features (X) and the target (y)\n",
    "# It chunks the data up with a rolling window of Xt-n to predict Xt\n",
    "# It returns a numpy array of X any y\n",
    "def window_data(data, target, window=1):\n",
    "    Xs, ys = [], []\n",
    "    for i in range(len(data) - window):\n",
    "        features = data.iloc[i:(i + window)].values\n",
    "        Xs.append(features)\n",
    "        ys.append(data.iloc[i + window,target])\n",
    "    return np.array(Xs), np.array(ys).reshape(-1, 1)"
   ]
  },
  {
   "cell_type": "code",
   "execution_count": 86,
   "metadata": {},
   "outputs": [
    {
     "name": "stdout",
     "output_type": "stream",
     "text": [
      "(540, 3, 2) (540, 1)\n"
     ]
    }
   ],
   "source": [
    "# Predict Closing Prices using a 10 day window of previous closing prices\n",
    "# Try a window size anywhere from 1 to 10 and see how the model performance changes\n",
    "window_size = 3\n",
    "target=1\n",
    "\n",
    "# reshape to [samples, time_steps, n_features]\n",
    "X, y = window_data(df_s, target, window_size)\n",
    "print(X.shape, y.shape)\n"
   ]
  },
  {
   "cell_type": "code",
   "execution_count": 87,
   "metadata": {},
   "outputs": [
    {
     "name": "stdout",
     "output_type": "stream",
     "text": [
      "0.699443413729128\n"
     ]
    }
   ],
   "source": [
    "# Use 70% of the data for training and the remaineder for testing\n",
    "\n",
    "split = int(0.7 * len(X))\n",
    "X_train = X[: split - 1]\n",
    "X_test = X[split:]\n",
    "y_train = y[: split - 1]\n",
    "y_test = y[split:]\n",
    "\n",
    "print(len(y_train)/(len(y_train)+len(y_test)))"
   ]
  },
  {
   "cell_type": "code",
   "execution_count": 88,
   "metadata": {},
   "outputs": [],
   "source": [
    "# # Use MinMaxScaler to scale the data between 0 and 1. \n",
    "# # YOUR CODE HERE\n",
    "# scaler = MinMaxScaler()\n",
    "# scaler.fit(X)\n",
    "# X_train = scaler.transform(X_train)\n",
    "# X_test = scaler.transform(X_test)\n",
    "# scaler.fit(y)\n",
    "# y_train = scaler.transform(y_train)\n",
    "# y_test = scaler.transform(y_test)"
   ]
  },
  {
   "cell_type": "code",
   "execution_count": 89,
   "metadata": {},
   "outputs": [],
   "source": [
    "# # Reshape the features for the model\n",
    "# # YOUR CODE HERE!\n",
    "# X_train = X_train.reshape((X_train.shape[0], X_train.shape[1], 1))\n",
    "# X_test = X_test.reshape((X_test.shape[0], X_test.shape[1], 1))\n",
    "# X_test[:2]"
   ]
  },
  {
   "cell_type": "markdown",
   "metadata": {},
   "source": [
    "---"
   ]
  },
  {
   "cell_type": "markdown",
   "metadata": {},
   "source": [
    "## Build and Train the LSTM RNN\n",
    "\n",
    "In this section, you will design a custom LSTM RNN and fit (train) it using the training data.\n",
    "\n",
    "You will need to:\n",
    "1. Define the model architecture\n",
    "2. Compile the model\n",
    "3. Fit the model to the training data\n",
    "\n",
    "### Hints:\n",
    "You will want to use the same model architecture and random seed for both notebooks. This is necessary to accurately compare the performance of the FNG model vs the closing price model. "
   ]
  },
  {
   "cell_type": "code",
   "execution_count": 90,
   "metadata": {},
   "outputs": [],
   "source": [
    "from tensorflow.keras.models import Sequential\n",
    "from tensorflow.keras.layers import LSTM, Dense, Dropout"
   ]
  },
  {
   "cell_type": "code",
   "execution_count": 92,
   "metadata": {},
   "outputs": [],
   "source": [
    "# Build the LSTM model. \n",
    "# The return sequences need to be set to True if you are adding additional LSTM layers, but \n",
    "# You don't have to do this for the final layer. \n",
    "# YOUR CODE HERE!\n",
    "model = Sequential()\n",
    "\n",
    "number_units = 7\n",
    "dropout_fraction = .2\n",
    "\n",
    "# Layer 1\n",
    "model.add(LSTM(\n",
    "    units=number_units,\n",
    "    return_sequences=True,\n",
    "    input_shape=(X_train.shape[1], X_train.shape[2]))\n",
    "    )\n",
    "model.add(Dropout(dropout_fraction))\n",
    "# Layer 2\n",
    "model.add(LSTM(units=number_units, return_sequences=True))\n",
    "model.add(Dropout(dropout_fraction))\n",
    "# Layer 3\n",
    "model.add(LSTM(units=number_units))\n",
    "model.add(Dropout(dropout_fraction))\n",
    "# Output layer\n",
    "model.add(Dense(1))"
   ]
  },
  {
   "cell_type": "code",
   "execution_count": 93,
   "metadata": {},
   "outputs": [],
   "source": [
    "# Compile the model\n",
    "model.compile(optimizer=\"adam\", loss=\"mean_squared_error\", metrics=\"mean_absolute_percentage_error\")"
   ]
  },
  {
   "cell_type": "code",
   "execution_count": 94,
   "metadata": {},
   "outputs": [
    {
     "name": "stdout",
     "output_type": "stream",
     "text": [
      "Model: \"sequential_4\"\n",
      "_________________________________________________________________\n",
      "Layer (type)                 Output Shape              Param #   \n",
      "=================================================================\n",
      "lstm_12 (LSTM)               (None, 3, 20)             1840      \n",
      "_________________________________________________________________\n",
      "dropout_12 (Dropout)         (None, 3, 20)             0         \n",
      "_________________________________________________________________\n",
      "lstm_13 (LSTM)               (None, 3, 20)             3280      \n",
      "_________________________________________________________________\n",
      "dropout_13 (Dropout)         (None, 3, 20)             0         \n",
      "_________________________________________________________________\n",
      "lstm_14 (LSTM)               (None, 20)                3280      \n",
      "_________________________________________________________________\n",
      "dropout_14 (Dropout)         (None, 20)                0         \n",
      "_________________________________________________________________\n",
      "dense_4 (Dense)              (None, 1)                 21        \n",
      "=================================================================\n",
      "Total params: 8,421\n",
      "Trainable params: 8,421\n",
      "Non-trainable params: 0\n",
      "_________________________________________________________________\n"
     ]
    }
   ],
   "source": [
    "# Summarize the model\n",
    "model.summary()"
   ]
  },
  {
   "cell_type": "code",
   "execution_count": 95,
   "metadata": {},
   "outputs": [
    {
     "name": "stdout",
     "output_type": "stream",
     "text": [
      "Epoch 1/20\n",
      "377/377 [==============================] - 2s 6ms/step - loss: 0.0831 - mean_absolute_percentage_error: 21.0217\n",
      "Epoch 2/20\n",
      "377/377 [==============================] - 3s 8ms/step - loss: 0.0170 - mean_absolute_percentage_error: 13.7802\n",
      "Epoch 3/20\n",
      "377/377 [==============================] - 3s 8ms/step - loss: 0.0176 - mean_absolute_percentage_error: 13.0257\n",
      "Epoch 4/20\n",
      "377/377 [==============================] - 3s 8ms/step - loss: 0.0205 - mean_absolute_percentage_error: 13.7596\n",
      "Epoch 5/20\n",
      "377/377 [==============================] - 3s 7ms/step - loss: 0.0216 - mean_absolute_percentage_error: 13.8831\n",
      "Epoch 6/20\n",
      "377/377 [==============================] - 3s 8ms/step - loss: 0.0229 - mean_absolute_percentage_error: 14.3545\n",
      "Epoch 7/20\n",
      "377/377 [==============================] - 3s 7ms/step - loss: 0.0196 - mean_absolute_percentage_error: 13.0799\n",
      "Epoch 8/20\n",
      "377/377 [==============================] - 3s 8ms/step - loss: 0.0192 - mean_absolute_percentage_error: 12.4902\n",
      "Epoch 9/20\n",
      "377/377 [==============================] - 3s 7ms/step - loss: 0.0171 - mean_absolute_percentage_error: 12.5205\n",
      "Epoch 10/20\n",
      "377/377 [==============================] - 3s 7ms/step - loss: 0.0165 - mean_absolute_percentage_error: 12.2190\n",
      "Epoch 11/20\n",
      "377/377 [==============================] - 3s 8ms/step - loss: 0.0147 - mean_absolute_percentage_error: 11.2524\n",
      "Epoch 12/20\n",
      "377/377 [==============================] - 3s 7ms/step - loss: 0.0133 - mean_absolute_percentage_error: 10.9605\n",
      "Epoch 13/20\n",
      "377/377 [==============================] - 2s 7ms/step - loss: 0.0110 - mean_absolute_percentage_error: 9.9525\n",
      "Epoch 14/20\n",
      "377/377 [==============================] - 3s 7ms/step - loss: 0.0109 - mean_absolute_percentage_error: 10.1641\n",
      "Epoch 15/20\n",
      "377/377 [==============================] - 3s 7ms/step - loss: 0.0101 - mean_absolute_percentage_error: 9.6194\n",
      "Epoch 16/20\n",
      "377/377 [==============================] - 3s 7ms/step - loss: 0.0090 - mean_absolute_percentage_error: 9.0718\n",
      "Epoch 17/20\n",
      "377/377 [==============================] - 3s 7ms/step - loss: 0.0104 - mean_absolute_percentage_error: 9.5405\n",
      "Epoch 18/20\n",
      "377/377 [==============================] - 2s 6ms/step - loss: 0.0102 - mean_absolute_percentage_error: 9.6594\n",
      "Epoch 19/20\n",
      "377/377 [==============================] - 3s 7ms/step - loss: 0.0087 - mean_absolute_percentage_error: 8.9006\n",
      "Epoch 20/20\n",
      "377/377 [==============================] - 3s 7ms/step - loss: 0.0072 - mean_absolute_percentage_error: 8.4429\n"
     ]
    },
    {
     "data": {
      "text/plain": [
       "<tensorflow.python.keras.callbacks.History at 0x219754687c8>"
      ]
     },
     "execution_count": 95,
     "metadata": {},
     "output_type": "execute_result"
    }
   ],
   "source": [
    "# Train the model\n",
    "# Use at least 10 epochs\n",
    "# Do not shuffle the data\n",
    "# Experiement with the batch size, but a smaller batch size is recommended\n",
    "# YOUR CODE HERE!\n",
    "model.fit(X_train, y_train, epochs=20, shuffle=False, batch_size=1, verbose=True)"
   ]
  },
  {
   "cell_type": "markdown",
   "metadata": {},
   "source": [
    "---"
   ]
  },
  {
   "cell_type": "markdown",
   "metadata": {},
   "source": [
    "## Model Performance\n",
    "\n",
    "In this section, you will evaluate the model using the test data. \n",
    "\n",
    "You will need to:\n",
    "1. Evaluate the model using the `X_test` and `y_test` data.\n",
    "2. Use the X_test data to make predictions\n",
    "3. Create a DataFrame of Real (y_test) vs predicted values. \n",
    "4. Plot the Real vs predicted values as a line chart\n",
    "\n",
    "### Hints\n",
    "Remember to apply the `inverse_transform` function to the predicted and y_test values to recover the actual closing prices."
   ]
  },
  {
   "cell_type": "code",
   "execution_count": 96,
   "metadata": {},
   "outputs": [
    {
     "name": "stdout",
     "output_type": "stream",
     "text": [
      "6/6 [==============================] - 0s 3ms/step - loss: 0.0342 - mean_absolute_percentage_error: 14.6559\n"
     ]
    },
    {
     "data": {
      "text/plain": [
       "[0.034177012741565704, 14.655915260314941]"
      ]
     },
     "execution_count": 96,
     "metadata": {},
     "output_type": "execute_result"
    }
   ],
   "source": [
    "# Evaluate the model\n",
    "model.evaluate(X_test, y_test, verbose=True)"
   ]
  },
  {
   "cell_type": "code",
   "execution_count": 97,
   "metadata": {},
   "outputs": [
    {
     "data": {
      "text/plain": [
       "(162, 1)"
      ]
     },
     "execution_count": 97,
     "metadata": {},
     "output_type": "execute_result"
    }
   ],
   "source": [
    "# Make some predictions\n",
    "# YOUR CODE HERE!\n",
    "predicted = model.predict(X_test)\n",
    "predicted.shape"
   ]
  },
  {
   "cell_type": "code",
   "execution_count": 98,
   "metadata": {},
   "outputs": [],
   "source": [
    "# # Recover the original prices instead of the scaled version\n",
    "# predicted_prices = scaler.inverse_transform(predicted)\n",
    "# real_prices = scaler.inverse_transform(y_test.reshape(-1, 1))"
   ]
  },
  {
   "cell_type": "code",
   "execution_count": 99,
   "metadata": {},
   "outputs": [
    {
     "data": {
      "text/html": [
       "<div>\n",
       "<style scoped>\n",
       "    .dataframe tbody tr th:only-of-type {\n",
       "        vertical-align: middle;\n",
       "    }\n",
       "\n",
       "    .dataframe tbody tr th {\n",
       "        vertical-align: top;\n",
       "    }\n",
       "\n",
       "    .dataframe thead th {\n",
       "        text-align: right;\n",
       "    }\n",
       "</style>\n",
       "<table border=\"1\" class=\"dataframe\">\n",
       "  <thead>\n",
       "    <tr style=\"text-align: right;\">\n",
       "      <th></th>\n",
       "      <th>Real</th>\n",
       "      <th>Predicted</th>\n",
       "    </tr>\n",
       "  </thead>\n",
       "  <tbody>\n",
       "    <tr>\n",
       "      <th>0</th>\n",
       "      <td>0.403333</td>\n",
       "      <td>0.397646</td>\n",
       "    </tr>\n",
       "    <tr>\n",
       "      <th>1</th>\n",
       "      <td>0.404538</td>\n",
       "      <td>0.405388</td>\n",
       "    </tr>\n",
       "    <tr>\n",
       "      <th>2</th>\n",
       "      <td>0.409683</td>\n",
       "      <td>0.406625</td>\n",
       "    </tr>\n",
       "    <tr>\n",
       "      <th>3</th>\n",
       "      <td>0.405860</td>\n",
       "      <td>0.387295</td>\n",
       "    </tr>\n",
       "    <tr>\n",
       "      <th>4</th>\n",
       "      <td>0.410663</td>\n",
       "      <td>0.388177</td>\n",
       "    </tr>\n",
       "  </tbody>\n",
       "</table>\n",
       "</div>"
      ],
      "text/plain": [
       "       Real  Predicted\n",
       "0  0.403333   0.397646\n",
       "1  0.404538   0.405388\n",
       "2  0.409683   0.406625\n",
       "3  0.405860   0.387295\n",
       "4  0.410663   0.388177"
      ]
     },
     "execution_count": 99,
     "metadata": {},
     "output_type": "execute_result"
    }
   ],
   "source": [
    "# Create a DataFrame of Real and Predicted values\n",
    "stocks = pd.DataFrame({\n",
    "    \"Real\": y_test.ravel(),\n",
    "    \"Predicted\": predicted.ravel()\n",
    "})\n",
    "stocks.head()"
   ]
  },
  {
   "cell_type": "code",
   "execution_count": 100,
   "metadata": {},
   "outputs": [],
   "source": [
    "stocks['Real']=stocks['Real']*(cmax-cmin)+cmin\n",
    "stocks['Predicted']=stocks['Predicted']*(cmax-cmin)+cmin"
   ]
  },
  {
   "cell_type": "code",
   "execution_count": 101,
   "metadata": {},
   "outputs": [
    {
     "data": {
      "text/html": [
       "<div>\n",
       "<style scoped>\n",
       "    .dataframe tbody tr th:only-of-type {\n",
       "        vertical-align: middle;\n",
       "    }\n",
       "\n",
       "    .dataframe tbody tr th {\n",
       "        vertical-align: top;\n",
       "    }\n",
       "\n",
       "    .dataframe thead th {\n",
       "        text-align: right;\n",
       "    }\n",
       "</style>\n",
       "<table border=\"1\" class=\"dataframe\">\n",
       "  <thead>\n",
       "    <tr style=\"text-align: right;\">\n",
       "      <th></th>\n",
       "      <th>Real</th>\n",
       "      <th>Predicted</th>\n",
       "    </tr>\n",
       "  </thead>\n",
       "  <tbody>\n",
       "    <tr>\n",
       "      <th>0</th>\n",
       "      <td>7137.080078</td>\n",
       "      <td>7082.026367</td>\n",
       "    </tr>\n",
       "    <tr>\n",
       "      <th>1</th>\n",
       "      <td>7148.750000</td>\n",
       "      <td>7156.977539</td>\n",
       "    </tr>\n",
       "    <tr>\n",
       "      <th>2</th>\n",
       "      <td>7198.560059</td>\n",
       "      <td>7168.955078</td>\n",
       "    </tr>\n",
       "    <tr>\n",
       "      <th>3</th>\n",
       "      <td>7161.550049</td>\n",
       "      <td>6981.826660</td>\n",
       "    </tr>\n",
       "    <tr>\n",
       "      <th>4</th>\n",
       "      <td>7208.040039</td>\n",
       "      <td>6990.366211</td>\n",
       "    </tr>\n",
       "  </tbody>\n",
       "</table>\n",
       "</div>"
      ],
      "text/plain": [
       "          Real    Predicted\n",
       "0  7137.080078  7082.026367\n",
       "1  7148.750000  7156.977539\n",
       "2  7198.560059  7168.955078\n",
       "3  7161.550049  6981.826660\n",
       "4  7208.040039  6990.366211"
      ]
     },
     "execution_count": 101,
     "metadata": {},
     "output_type": "execute_result"
    }
   ],
   "source": [
    "stocks.head()"
   ]
  },
  {
   "cell_type": "code",
   "execution_count": 102,
   "metadata": {},
   "outputs": [
    {
     "data": {
      "application/vnd.holoviews_exec.v0+json": "",
      "text/html": [
       "<div id='1419'>\n",
       "\n",
       "\n",
       "\n",
       "\n",
       "\n",
       "  <div class=\"bk-root\" id=\"fe6d836b-3c29-4528-b054-5c619f8efdfe\" data-root-id=\"1419\"></div>\n",
       "</div>\n",
       "<script type=\"application/javascript\">(function(root) {\n",
       "  function embed_document(root) {\n",
       "  var docs_json = {\"2ff9416d-0a6f-4202-824c-4ccda9690529\":{\"roots\":{\"references\":[{\"attributes\":{\"end\":17063.01022926875,\"reset_end\":17063.01022926875,\"reset_start\":5960.37087404375,\"start\":5960.37087404375,\"tags\":[[[\"value\",\"value\",null]]]},\"id\":\"1422\",\"type\":\"Range1d\"},{\"attributes\":{},\"id\":\"1444\",\"type\":\"WheelZoomTool\"},{\"attributes\":{\"axis\":{\"id\":\"1438\"},\"dimension\":1,\"grid_line_color\":null,\"ticker\":null},\"id\":\"1441\",\"type\":\"Grid\"},{\"attributes\":{\"line_color\":\"#1f77b3\",\"line_width\":2,\"x\":{\"field\":\"index\"},\"y\":{\"field\":\"value\"}},\"id\":\"1462\",\"type\":\"Line\"},{\"attributes\":{\"data_source\":{\"id\":\"1477\"},\"glyph\":{\"id\":\"1480\"},\"hover_glyph\":null,\"muted_glyph\":{\"id\":\"1482\"},\"nonselection_glyph\":{\"id\":\"1481\"},\"selection_glyph\":null,\"view\":{\"id\":\"1484\"}},\"id\":\"1483\",\"type\":\"GlyphRenderer\"},{\"attributes\":{},\"id\":\"1443\",\"type\":\"PanTool\"},{\"attributes\":{},\"id\":\"1474\",\"type\":\"UnionRenderers\"},{\"attributes\":{\"axis_label\":\"\",\"bounds\":\"auto\",\"formatter\":{\"id\":\"1457\"},\"major_label_orientation\":\"horizontal\",\"ticker\":{\"id\":\"1439\"}},\"id\":\"1438\",\"type\":\"LinearAxis\"},{\"attributes\":{},\"id\":\"1442\",\"type\":\"SaveTool\"},{\"attributes\":{\"source\":{\"id\":\"1477\"}},\"id\":\"1484\",\"type\":\"CDSView\"},{\"attributes\":{\"align\":null,\"below\":[{\"id\":\"1434\"}],\"center\":[{\"id\":\"1437\"},{\"id\":\"1441\"}],\"left\":[{\"id\":\"1438\"}],\"margin\":null,\"min_border_bottom\":10,\"min_border_left\":10,\"min_border_right\":10,\"min_border_top\":10,\"plot_height\":300,\"plot_width\":700,\"renderers\":[{\"id\":\"1465\"},{\"id\":\"1483\"}],\"right\":[{\"id\":\"1475\"}],\"sizing_mode\":\"fixed\",\"title\":{\"id\":\"1426\"},\"toolbar\":{\"id\":\"1448\"},\"x_range\":{\"id\":\"1421\"},\"x_scale\":{\"id\":\"1430\"},\"y_range\":{\"id\":\"1422\"},\"y_scale\":{\"id\":\"1432\"}},\"id\":\"1425\",\"subtype\":\"Figure\",\"type\":\"Plot\"},{\"attributes\":{\"data\":{\"Variable\":[\"Real\",\"Real\",\"Real\",\"Real\",\"Real\",\"Real\",\"Real\",\"Real\",\"Real\",\"Real\",\"Real\",\"Real\",\"Real\",\"Real\",\"Real\",\"Real\",\"Real\",\"Real\",\"Real\",\"Real\",\"Real\",\"Real\",\"Real\",\"Real\",\"Real\",\"Real\",\"Real\",\"Real\",\"Real\",\"Real\",\"Real\",\"Real\",\"Real\",\"Real\",\"Real\",\"Real\",\"Real\",\"Real\",\"Real\",\"Real\",\"Real\",\"Real\",\"Real\",\"Real\",\"Real\",\"Real\",\"Real\",\"Real\",\"Real\",\"Real\",\"Real\",\"Real\",\"Real\",\"Real\",\"Real\",\"Real\",\"Real\",\"Real\",\"Real\",\"Real\",\"Real\",\"Real\",\"Real\",\"Real\",\"Real\",\"Real\",\"Real\",\"Real\",\"Real\",\"Real\",\"Real\",\"Real\",\"Real\",\"Real\",\"Real\",\"Real\",\"Real\",\"Real\",\"Real\",\"Real\",\"Real\",\"Real\",\"Real\",\"Real\",\"Real\",\"Real\",\"Real\",\"Real\",\"Real\",\"Real\",\"Real\",\"Real\",\"Real\",\"Real\",\"Real\",\"Real\",\"Real\",\"Real\",\"Real\",\"Real\",\"Real\",\"Real\",\"Real\",\"Real\",\"Real\",\"Real\",\"Real\",\"Real\",\"Real\",\"Real\",\"Real\",\"Real\",\"Real\",\"Real\",\"Real\",\"Real\",\"Real\",\"Real\",\"Real\",\"Real\",\"Real\",\"Real\",\"Real\",\"Real\",\"Real\",\"Real\",\"Real\",\"Real\",\"Real\",\"Real\",\"Real\",\"Real\",\"Real\",\"Real\",\"Real\",\"Real\",\"Real\",\"Real\",\"Real\",\"Real\",\"Real\",\"Real\",\"Real\",\"Real\",\"Real\",\"Real\",\"Real\",\"Real\",\"Real\",\"Real\",\"Real\",\"Real\",\"Real\",\"Real\",\"Real\",\"Real\",\"Real\",\"Real\",\"Real\",\"Real\",\"Real\",\"Real\"],\"index\":[0,1,2,3,4,5,6,7,8,9,10,11,12,13,14,15,16,17,18,19,20,21,22,23,24,25,26,27,28,29,30,31,32,33,34,35,36,37,38,39,40,41,42,43,44,45,46,47,48,49,50,51,52,53,54,55,56,57,58,59,60,61,62,63,64,65,66,67,68,69,70,71,72,73,74,75,76,77,78,79,80,81,82,83,84,85,86,87,88,89,90,91,92,93,94,95,96,97,98,99,100,101,102,103,104,105,106,107,108,109,110,111,112,113,114,115,116,117,118,119,120,121,122,123,124,125,126,127,128,129,130,131,132,133,134,135,136,137,138,139,140,141,142,143,144,145,146,147,148,149,150,151,152,153,154,155,156,157,158,159,160,161],\"value\":{\"__ndarray__\":\"Iuf9fxThu0AAAAAAwOy7QNXQBmCPHrxAMuIC0Iz5u0CQ8/4/Cii8QGAgCJCZzbxAVMkAUCFUu0BE3QcgBZ67QPATB9BjgrtAtOkI4DqPu0BUyQBQ4Ye7QF4R/G/9j7tAzR39L3Obu0B3vwrw0Xy7QJDz/j/KK7tAIvYJoLC6u0BeEfxvfbu7QLLa/L8ew7tA5ssLsIe0u0AAAAAAQAS8QGbEBaBZ8rtAkgILYGa7u0Ah5/1/FMm7QM0d/S/zvrtAzR39L/PBu0DD1QEQl++7QETdByCFU7xAou4DkII2vEAHswkwXC28QJICC2CmULxAou4DkEJxvEAj9gmgcDW8QGbEBaBZObxAEvsEULg/vECx2vy/njK8QNXQBmAP7btAtOkI4Lr+u0BeEfxvfWa8QG8MAcD1XLxA8BMH0OOnvEDwEwfQo668QM0d/S8zqbxAHEMAcNTPvEAomgewcMO/QDAQBMiMBMBArTb/r97Jv0CvCP633ifAQFD3AUjhLMBAct7/x9V0wEAwEATITKPAQGiWBKjndMBAhNkEGI6vwEC8XwX4iCjAQFH3AUgBOcBAct7/x5U4wEAwEATIDGPAQPPlBdjjIsBAvF8F+Kh6wECgHAWIYobAQFH3AUghocBAxqcAGAWkwEAUzQNYWLPAQAPS/gcgqcBAwAMDCJfVwECE2QQYzh3BQOLqAIiL88BAwAMDCJdhwEAwEATITIXAQK8I/rf+gsBAOlj/53qYwECIfQIoPIfAQExTBDiTv8BAGnEBaAbTwEDcRgN4nQrBQPiJA+jxiMFA4uoAiEu0wUBMUwQ4U53BQMEDAwhXhsFAjiEAOAqqwUCIfQIonAPCQIh9Aig8WsJAGnEBaGa3wkBWm/9X71fEQPiJA+gR7cNAVpv/V2+LxUD4iQPoUeLFQOLqAIgrSMZAVpv/V0+txUCIfQIoPLLEQOLqAIhLfcRAy0v+J9NMxkAacQFoZuvFQBTNA1g40sVATFMEOLMxxUBR9wFIga7FQB4V/3d06sVA+IkD6NEJxkAwEATIXlfHQMADAwjXdMdAA9L+B65Tx0A6WP/niDjHQFH3AUhhdsZAwAMDCJf/xkCqZACoMALHQHLe/8c1XcdAA9L+B4AlxkDcRgN4/UrFQBpxAWjmg8VAVpv/V++LxUD4iQPoke3FQManABgly8VA5o7+l/k5xUBR9wFIwfbFQI4hADjqwsVATFMEOFNDxkAPKQZICmLGQIl9Aig8R8dAOlj/5wiXx0APKQZI2NXHQJ8cBYhCiMhAiX0CKBwJyEAZcQFohmzIQAPS/geu7MhAqmQAqLBBykAacQFoBi3LQAPS/gdAgMtAA9L+ByDay0AwEATIbDrNQMtL/iflhM9AMBAEyEwVzEA6WP/nyG3OQALS/gdOgs1AaJYEqMdUy0CqZACoMPzKQPiJA+hRestA2KIFaA+zzUBy3v/HgxbMQFH3AUjhxMtAaJYEqLlEzEDLS/4nZbXMQHHe/8dVUM5Act7/x8PXzkCqZACo0O3NQKpkAKjQc8xAqmQAqPBWzUDXogVoPX7MQHLe/8d1OspAnxwFiGJ9y0BolgSo+bPIQJ8cBYhUPMlAA9L+B24Ty0BolgSoud7KQL8DAwj3T8tAiX0CKJz5ykCqZACoMHfKQJ8cBYhUi8lAy0v+J1NiyUAOKQZIeJnJQDpY/+f6h8lADykGSGrPyEBy3v/HI+rIQMtL/icz6chA\",\"dtype\":\"float64\",\"order\":\"little\",\"shape\":[162]}},\"selected\":{\"id\":\"1460\"},\"selection_policy\":{\"id\":\"1474\"}},\"id\":\"1459\",\"type\":\"ColumnDataSource\"},{\"attributes\":{},\"id\":\"1439\",\"type\":\"BasicTicker\"},{\"attributes\":{},\"id\":\"1494\",\"type\":\"UnionRenderers\"},{\"attributes\":{\"active_drag\":\"auto\",\"active_inspect\":\"auto\",\"active_multi\":null,\"active_scroll\":\"auto\",\"active_tap\":\"auto\",\"tools\":[{\"id\":\"1423\"},{\"id\":\"1442\"},{\"id\":\"1443\"},{\"id\":\"1444\"},{\"id\":\"1445\"},{\"id\":\"1446\"}]},\"id\":\"1448\",\"type\":\"Toolbar\"},{\"attributes\":{},\"id\":\"1430\",\"type\":\"LinearScale\"},{\"attributes\":{},\"id\":\"1457\",\"type\":\"BasicTickFormatter\"},{\"attributes\":{},\"id\":\"1446\",\"type\":\"ResetTool\"},{\"attributes\":{\"label\":{\"value\":\"Predicted\"},\"renderers\":[{\"id\":\"1483\"}]},\"id\":\"1495\",\"type\":\"LegendItem\"},{\"attributes\":{\"end\":161.0,\"reset_end\":161.0,\"reset_start\":0.0,\"tags\":[[[\"index\",\"index\",null]]]},\"id\":\"1421\",\"type\":\"Range1d\"},{\"attributes\":{\"click_policy\":\"mute\",\"items\":[{\"id\":\"1476\"},{\"id\":\"1495\"}],\"location\":[0,0],\"title\":\"Variable\"},\"id\":\"1475\",\"type\":\"Legend\"},{\"attributes\":{\"line_color\":\"#ff7e0e\",\"line_width\":2,\"x\":{\"field\":\"index\"},\"y\":{\"field\":\"value\"}},\"id\":\"1480\",\"type\":\"Line\"},{\"attributes\":{\"label\":{\"value\":\"Real\"},\"renderers\":[{\"id\":\"1465\"}]},\"id\":\"1476\",\"type\":\"LegendItem\"},{\"attributes\":{},\"id\":\"1432\",\"type\":\"LinearScale\"},{\"attributes\":{\"callback\":null,\"renderers\":[{\"id\":\"1465\"},{\"id\":\"1483\"}],\"tags\":[\"hv_created\"],\"tooltips\":[[\"Variable\",\"@{Variable}\"],[\"index\",\"@{index}\"],[\"value\",\"@{value}\"]]},\"id\":\"1423\",\"type\":\"HoverTool\"},{\"attributes\":{\"data_source\":{\"id\":\"1459\"},\"glyph\":{\"id\":\"1462\"},\"hover_glyph\":null,\"muted_glyph\":{\"id\":\"1464\"},\"nonselection_glyph\":{\"id\":\"1463\"},\"selection_glyph\":null,\"view\":{\"id\":\"1466\"}},\"id\":\"1465\",\"type\":\"GlyphRenderer\"},{\"attributes\":{\"overlay\":{\"id\":\"1447\"}},\"id\":\"1445\",\"type\":\"BoxZoomTool\"},{\"attributes\":{\"margin\":[5,5,5,5],\"name\":\"HSpacer02482\",\"sizing_mode\":\"stretch_width\"},\"id\":\"1420\",\"type\":\"Spacer\"},{\"attributes\":{\"axis_label\":\"\",\"bounds\":\"auto\",\"formatter\":{\"id\":\"1455\"},\"major_label_orientation\":\"horizontal\",\"ticker\":{\"id\":\"1435\"}},\"id\":\"1434\",\"type\":\"LinearAxis\"},{\"attributes\":{\"source\":{\"id\":\"1459\"}},\"id\":\"1466\",\"type\":\"CDSView\"},{\"attributes\":{\"bottom_units\":\"screen\",\"fill_alpha\":0.5,\"fill_color\":\"lightgrey\",\"left_units\":\"screen\",\"level\":\"overlay\",\"line_alpha\":1.0,\"line_color\":\"black\",\"line_dash\":[4,4],\"line_width\":2,\"right_units\":\"screen\",\"top_units\":\"screen\"},\"id\":\"1447\",\"type\":\"BoxAnnotation\"},{\"attributes\":{},\"id\":\"1460\",\"type\":\"Selection\"},{\"attributes\":{\"children\":[{\"id\":\"1420\"},{\"id\":\"1425\"},{\"id\":\"1576\"}],\"margin\":[0,0,0,0],\"name\":\"Row02478\",\"tags\":[\"embedded\"]},\"id\":\"1419\",\"type\":\"Row\"},{\"attributes\":{\"line_alpha\":0.2,\"line_color\":\"#ff7e0e\",\"line_width\":2,\"x\":{\"field\":\"index\"},\"y\":{\"field\":\"value\"}},\"id\":\"1482\",\"type\":\"Line\"},{\"attributes\":{},\"id\":\"1435\",\"type\":\"BasicTicker\"},{\"attributes\":{\"text\":\"\",\"text_color\":{\"value\":\"black\"},\"text_font_size\":{\"value\":\"12pt\"}},\"id\":\"1426\",\"type\":\"Title\"},{\"attributes\":{\"data\":{\"Variable\":[\"Predicted\",\"Predicted\",\"Predicted\",\"Predicted\",\"Predicted\",\"Predicted\",\"Predicted\",\"Predicted\",\"Predicted\",\"Predicted\",\"Predicted\",\"Predicted\",\"Predicted\",\"Predicted\",\"Predicted\",\"Predicted\",\"Predicted\",\"Predicted\",\"Predicted\",\"Predicted\",\"Predicted\",\"Predicted\",\"Predicted\",\"Predicted\",\"Predicted\",\"Predicted\",\"Predicted\",\"Predicted\",\"Predicted\",\"Predicted\",\"Predicted\",\"Predicted\",\"Predicted\",\"Predicted\",\"Predicted\",\"Predicted\",\"Predicted\",\"Predicted\",\"Predicted\",\"Predicted\",\"Predicted\",\"Predicted\",\"Predicted\",\"Predicted\",\"Predicted\",\"Predicted\",\"Predicted\",\"Predicted\",\"Predicted\",\"Predicted\",\"Predicted\",\"Predicted\",\"Predicted\",\"Predicted\",\"Predicted\",\"Predicted\",\"Predicted\",\"Predicted\",\"Predicted\",\"Predicted\",\"Predicted\",\"Predicted\",\"Predicted\",\"Predicted\",\"Predicted\",\"Predicted\",\"Predicted\",\"Predicted\",\"Predicted\",\"Predicted\",\"Predicted\",\"Predicted\",\"Predicted\",\"Predicted\",\"Predicted\",\"Predicted\",\"Predicted\",\"Predicted\",\"Predicted\",\"Predicted\",\"Predicted\",\"Predicted\",\"Predicted\",\"Predicted\",\"Predicted\",\"Predicted\",\"Predicted\",\"Predicted\",\"Predicted\",\"Predicted\",\"Predicted\",\"Predicted\",\"Predicted\",\"Predicted\",\"Predicted\",\"Predicted\",\"Predicted\",\"Predicted\",\"Predicted\",\"Predicted\",\"Predicted\",\"Predicted\",\"Predicted\",\"Predicted\",\"Predicted\",\"Predicted\",\"Predicted\",\"Predicted\",\"Predicted\",\"Predicted\",\"Predicted\",\"Predicted\",\"Predicted\",\"Predicted\",\"Predicted\",\"Predicted\",\"Predicted\",\"Predicted\",\"Predicted\",\"Predicted\",\"Predicted\",\"Predicted\",\"Predicted\",\"Predicted\",\"Predicted\",\"Predicted\",\"Predicted\",\"Predicted\",\"Predicted\",\"Predicted\",\"Predicted\",\"Predicted\",\"Predicted\",\"Predicted\",\"Predicted\",\"Predicted\",\"Predicted\",\"Predicted\",\"Predicted\",\"Predicted\",\"Predicted\",\"Predicted\",\"Predicted\",\"Predicted\",\"Predicted\",\"Predicted\",\"Predicted\",\"Predicted\",\"Predicted\",\"Predicted\",\"Predicted\",\"Predicted\",\"Predicted\",\"Predicted\",\"Predicted\",\"Predicted\",\"Predicted\",\"Predicted\",\"Predicted\",\"Predicted\",\"Predicted\",\"Predicted\"],\"index\":[0,1,2,3,4,5,6,7,8,9,10,11,12,13,14,15,16,17,18,19,20,21,22,23,24,25,26,27,28,29,30,31,32,33,34,35,36,37,38,39,40,41,42,43,44,45,46,47,48,49,50,51,52,53,54,55,56,57,58,59,60,61,62,63,64,65,66,67,68,69,70,71,72,73,74,75,76,77,78,79,80,81,82,83,84,85,86,87,88,89,90,91,92,93,94,95,96,97,98,99,100,101,102,103,104,105,106,107,108,109,110,111,112,113,114,115,116,117,118,119,120,121,122,123,124,125,126,127,128,129,130,131,132,133,134,135,136,137,138,139,140,141,142,143,144,145,146,147,148,149,150,151,152,153,154,155,156,157,158,159,160,161],\"value\":{\"__ndarray__\":\"NlDdRdKn30WkB+BFnS7aRe5y2kUEAt1F2M3dRchT3UVWLdpFuizXRRLi30VcwuFFkhbiRcPT4UUgH+FFD7rgRSCI4EWm+OJFeNrjRcyM4EWZpNxF66XdRRW53UU3B91FjCzcReB43EUuLN1FLLvdRRwX30XqtN9FbmfeRehl30W5C+BFLmjfRdEA3UUGkt9FaqbhRQOU4kUeReJFoujjRXBg5EXiluNFhXbjRX7k4UVy2+VFsu7sRfTI9EWK5PJFHgL2RXBQ+UWO7flFir36RSjC+0WY3/pFHP33RRBm9kWYPvpF9p33RZ5Q+UVG9fhFcmP9RYZM/EXohfxFiD39RfSJ/UWsuf9F8NwARiDY/kXwGvpFwrr4RTyg+0VQuPtFuoj8RQ6y/UVWlf9FNB8BRl+XA0b1tgRGJ/cDRlIQBEbNLwVG3G4GRpJGCUaOpw1GXdgRRrUTF0ax/BlGLlEeRuCdHkbdzRtGlnoXRjknF0ajShpGk+0cRosaG0aLshlGV/8YRoSXGkY/yhxG8YgfRqsIIkY9XCJG3KshRiW9H0b86h1GYl8eRudkHkaKXhpGQ2ITRkluEEaXdhBGAYsTRjusFkbZrhZGkF4WRsBrGEZVIRpGx70cRjo4IEYOTyRGFpgnRv1bKUb2LCpGo/spRiccLEZhyC5G1VwxRvFDMkYDjzNGSho2RioQOEbARjdGj5szRsNmMkbd3jBGgHktRppzLkZuHzFGzFkyRh8OMEZnei9GCWkxRl7HM0ZVPzZGG1I1RjhgL0bnOytGCqYqRoZuJ0bcHCBGhbcbRhwDHEb1eB9Gp/EiRpnvIkab+SJGUUEiRi6XHkYZCh1GNBwcRmHdHUbaVhtG\",\"dtype\":\"float32\",\"order\":\"little\",\"shape\":[162]}},\"selected\":{\"id\":\"1478\"},\"selection_policy\":{\"id\":\"1494\"}},\"id\":\"1477\",\"type\":\"ColumnDataSource\"},{\"attributes\":{\"line_alpha\":0.1,\"line_color\":\"#1f77b3\",\"line_width\":2,\"x\":{\"field\":\"index\"},\"y\":{\"field\":\"value\"}},\"id\":\"1463\",\"type\":\"Line\"},{\"attributes\":{\"axis\":{\"id\":\"1434\"},\"grid_line_color\":null,\"ticker\":null},\"id\":\"1437\",\"type\":\"Grid\"},{\"attributes\":{},\"id\":\"1478\",\"type\":\"Selection\"},{\"attributes\":{\"margin\":[5,5,5,5],\"name\":\"HSpacer02483\",\"sizing_mode\":\"stretch_width\"},\"id\":\"1576\",\"type\":\"Spacer\"},{\"attributes\":{\"line_alpha\":0.1,\"line_color\":\"#ff7e0e\",\"line_width\":2,\"x\":{\"field\":\"index\"},\"y\":{\"field\":\"value\"}},\"id\":\"1481\",\"type\":\"Line\"},{\"attributes\":{},\"id\":\"1455\",\"type\":\"BasicTickFormatter\"},{\"attributes\":{\"line_alpha\":0.2,\"line_color\":\"#1f77b3\",\"line_width\":2,\"x\":{\"field\":\"index\"},\"y\":{\"field\":\"value\"}},\"id\":\"1464\",\"type\":\"Line\"}],\"root_ids\":[\"1419\"]},\"title\":\"Bokeh Application\",\"version\":\"2.1.0\"}};\n",
       "  var render_items = [{\"docid\":\"2ff9416d-0a6f-4202-824c-4ccda9690529\",\"root_ids\":[\"1419\"],\"roots\":{\"1419\":\"fe6d836b-3c29-4528-b054-5c619f8efdfe\"}}];\n",
       "  root.Bokeh.embed.embed_items_notebook(docs_json, render_items);\n",
       "  }\n",
       "if (root.Bokeh !== undefined) {\n",
       "    embed_document(root);\n",
       "  } else {\n",
       "    var attempts = 0;\n",
       "    var timer = setInterval(function(root) {\n",
       "      if (root.Bokeh !== undefined) {\n",
       "        clearInterval(timer);\n",
       "        embed_document(root);\n",
       "      } else if (document.readyState == \"complete\") {\n",
       "        attempts++;\n",
       "        if (attempts > 100) {\n",
       "          clearInterval(timer);\n",
       "          console.log(\"Bokeh: ERROR: Unable to run BokehJS code because BokehJS library is missing\");\n",
       "        }\n",
       "      }\n",
       "    }, 10, root)\n",
       "  }\n",
       "})(window);</script>"
      ],
      "text/plain": [
       ":NdOverlay   [Variable]\n",
       "   :Curve   [index]   (value)"
      ]
     },
     "execution_count": 102,
     "metadata": {
      "application/vnd.holoviews_exec.v0+json": {
       "id": "1419"
      }
     },
     "output_type": "execute_result"
    }
   ],
   "source": [
    "# Plot the real vs predicted values as a line chart\n",
    "stocks.hvplot(y=['Real', 'Predicted'])"
   ]
  },
  {
   "cell_type": "code",
   "execution_count": null,
   "metadata": {},
   "outputs": [],
   "source": []
  },
  {
   "cell_type": "code",
   "execution_count": 73,
   "metadata": {},
   "outputs": [],
   "source": [
    "# windows_l=[]\n",
    "# windows_a=[]\n",
    "# for win in range(1,11):\n",
    "#     print(f'window {win}')\n",
    "#     nodes_l=[]\n",
    "#     nodes_a=[]\n",
    "#     for node in range(1,32,3):\n",
    "#         epo_l=[]\n",
    "#         epo_a=[]\n",
    "#         for epo in range(10,22,2):\n",
    "#             print(f'node {node}')\n",
    "#             window_size = win\n",
    "\n",
    "#             feature_column = 1\n",
    "#             target_column = 1\n",
    "#             X, y = window_data(df, window_size, feature_column, target_column)\n",
    "#             split = int(0.7 * len(X))\n",
    "#             X_train = X[: split - 1]\n",
    "#             X_test = X[split:]\n",
    "#             y_train = y[: split - 1]\n",
    "#             y_test = y[split:]\n",
    "#             scaler = MinMaxScaler()\n",
    "#             scaler.fit(X)\n",
    "#             X_train = scaler.transform(X_train)\n",
    "#             X_test = scaler.transform(X_test)\n",
    "#             scaler.fit(y)\n",
    "#             y_train = scaler.transform(y_train)\n",
    "#             y_test = scaler.transform(y_test)\n",
    "#             X_train = X_train.reshape((X_train.shape[0], X_train.shape[1], 1))\n",
    "#             X_test = X_test.reshape((X_test.shape[0], X_test.shape[1], 1))\n",
    "#             model = Sequential()\n",
    "\n",
    "#             number_units = node\n",
    "#             dropout_fraction = .2\n",
    "\n",
    "#             # Layer 1\n",
    "#             model.add(LSTM(\n",
    "#                 units=number_units,\n",
    "#                 return_sequences=True,\n",
    "#                 input_shape=(X_train.shape[1], 1))\n",
    "#                 )\n",
    "#             model.add(Dropout(dropout_fraction))\n",
    "#             # Layer 2\n",
    "#             model.add(LSTM(units=number_units, return_sequences=True))\n",
    "#             model.add(Dropout(dropout_fraction))\n",
    "#             # Layer 3\n",
    "#             # model.add(LSTM(units=number_units))\n",
    "#             # model.add(Dropout(dropout_fraction))\n",
    "#             # Output layer\n",
    "#             model.add(Dense(1))\n",
    "#             model.compile(optimizer=\"adam\", loss=\"mean_squared_error\", metrics=\"mean_absolute_percentage_error\")\n",
    "#             model.fit(X_train, y_train, epochs=epo, shuffle=False, batch_size=1, verbose=False)\n",
    "#             eval=model.evaluate(X_test, y_test)\n",
    "#             epo_l.append(eval[0])\n",
    "#             epo_a.append(eval[1])\n",
    "#         nodes_l.append(epo_l)\n",
    "#         nodes_a.append(epo_a)\n",
    "#         print('node done')\n",
    "#     print('window done')\n",
    "#     windows_l.append(nodes_l)\n",
    "#     windows_a.append(nodes_a)\n",
    "# print('done')"
   ]
  },
  {
   "cell_type": "code",
   "execution_count": 74,
   "metadata": {},
   "outputs": [],
   "source": [
    "# ep12=[]\n",
    "\n",
    "# ep12l=[]\n",
    "\n",
    "# for win in range(10):\n",
    "#     ep12nl=[]\n",
    "#     ep12n=[]\n",
    "#     for nod in range(11):\n",
    "#         ep12nl.append(windows_l[win][nod][4])\n",
    "#         ep12n.append(windows_a[win][nod][4])\n",
    "\n",
    "#     ep12.append(ep12n)\n",
    "#     ep12l.append(ep12nl)\n",
    "\n",
    "# dfep12l = pd.DataFrame(ep12l, columns = ['nod1','nod3','nod7','nod10','nod13','nod16','nod19','nod22','nod25','nod28','nod31']) \n",
    "# dfep12l.index = ['win1','win2','win3','win4','win5','win6','win7','win8','win9','win10']\n",
    "\n",
    "# dfep12 = pd.DataFrame(ep12, columns = ['nod1','nod3','nod7','nod10','nod13','nod16','nod19','nod22','nod25','nod28','nod31']) \n",
    "# dfep12.index =['win1','win2','win3','win4','win5','win6','win7','win8','win9','win10']\n",
    "\n",
    "# dfep12l.head()"
   ]
  },
  {
   "cell_type": "code",
   "execution_count": 75,
   "metadata": {},
   "outputs": [],
   "source": [
    "# import hvplot.pandas\n",
    "# dfep12l.hvplot()"
   ]
  },
  {
   "cell_type": "code",
   "execution_count": 76,
   "metadata": {},
   "outputs": [],
   "source": [
    "# dfep12.hvplot()"
   ]
  },
  {
   "cell_type": "code",
   "execution_count": 77,
   "metadata": {},
   "outputs": [],
   "source": [
    "# win4=[]\n",
    "\n",
    "# win4l=[]\n",
    "\n",
    "# for nod in range(11):\n",
    "#     win4nl=[]\n",
    "#     win4n=[]\n",
    "#     for ep in range(6):\n",
    "#         win4nl.append(windows_l[2][nod][ep])\n",
    "#         win4n.append(windows_a[2][nod][ep])\n",
    "\n",
    "#     win4.append(win4n)\n",
    "\n",
    "#     win4l.append(win4nl)\n",
    "\n",
    "# dfwin4l = pd.DataFrame(win4l, columns = ['10 epoch', '12 epoch','14 epoch','16 epoch','18 epoch','20 epoch']) \n",
    "# dfwin4l.index = ['nod1','nod3','nod7','nod10','nod13','nod16','nod19','nod22','nod25','nod28','nod31']\n",
    "\n",
    "# dfwin4 = pd.DataFrame(win4, columns = ['10 epoch', '12 epoch','14 epoch','16 epoch','18 epoch','20 epoch']) \n",
    "# dfwin4.index =['nod1','nod3','nod7','nod10','nod13','nod16','nod19','nod22','nod25','nod28','nod31']\n",
    "\n",
    "# dfwin4l.head()"
   ]
  },
  {
   "cell_type": "code",
   "execution_count": 78,
   "metadata": {},
   "outputs": [],
   "source": [
    "# dfwin4.hvplot()"
   ]
  },
  {
   "cell_type": "code",
   "execution_count": 79,
   "metadata": {},
   "outputs": [],
   "source": [
    "# dfwin4l.hvplot()"
   ]
  },
  {
   "cell_type": "code",
   "execution_count": 80,
   "metadata": {},
   "outputs": [],
   "source": [
    "# nod3=[]\n",
    "\n",
    "# nod3l=[]\n",
    "\n",
    "# for win in range(10):\n",
    "#     nod3nl=[]\n",
    "#     nod3n=[]\n",
    "#     for ep in range(6):\n",
    "#         nod3nl.append(windows_l[win][2][ep])\n",
    "#         nod3n.append(windows_a[win][2][ep])\n",
    "\n",
    "#     nod3.append(nod3n)\n",
    "#     nod3l.append(nod3nl)\n",
    "\n",
    "# dfnod3l = pd.DataFrame(nod3l, columns = ['10 epoch', '12 epoch','14 epoch','16 epoch','18 epoch','20 epoch']) \n",
    "# dfnod3l.index = ['win1','win2','win3','win4','win5','win6','win7','win8','win9','win10']\n",
    "\n",
    "# dfnod3 = pd.DataFrame(nod3, columns = ['10 epoch', '12 epoch','14 epoch','16 epoch','18 epoch','20 epoch']) \n",
    "# dfnod3.index =['win1','win2','win3','win4','win5','win6','win7','win8','win9','win10']\n",
    "\n",
    "# dfnod3l.head()"
   ]
  },
  {
   "cell_type": "code",
   "execution_count": 81,
   "metadata": {},
   "outputs": [],
   "source": [
    "# dfnod3l.hvplot()"
   ]
  },
  {
   "cell_type": "code",
   "execution_count": 82,
   "metadata": {},
   "outputs": [],
   "source": [
    "# dfnod3.hvplot()"
   ]
  }
 ],
 "metadata": {
  "kernelspec": {
   "display_name": "Python 3",
   "language": "python",
   "name": "python3"
  },
  "language_info": {
   "codemirror_mode": {
    "name": "ipython",
    "version": 3
   },
   "file_extension": ".py",
   "mimetype": "text/x-python",
   "name": "python",
   "nbconvert_exporter": "python",
   "pygments_lexer": "ipython3",
   "version": "3.7.7"
  }
 },
 "nbformat": 4,
 "nbformat_minor": 4
}
